{
  "nbformat": 4,
  "nbformat_minor": 0,
  "metadata": {
    "colab": {
      "name": "mlp-uci-adult-dataset.ipynb",
      "provenance": [],
      "collapsed_sections": []
    },
    "kernelspec": {
      "name": "python3",
      "display_name": "Python 3"
    }
  },
  "cells": [
    {
      "cell_type": "code",
      "metadata": {
        "id": "ZVotHWxGiuOM",
        "colab_type": "code",
        "colab": {}
      },
      "source": [
        "import os\n",
        "# changing directory to Google Drive Folder (when using Google Colab)\n",
        "os.chdir('/content/drive/My Drive/ANN/hw1')"
      ],
      "execution_count": 0,
      "outputs": []
    },
    {
      "cell_type": "code",
      "metadata": {
        "id": "7FkOLl10k_cv",
        "colab_type": "code",
        "colab": {}
      },
      "source": [
        "import pandas as pd\n",
        "import numpy as np\n",
        "import tensorflow as tf\n",
        "from tensorflow import keras\n",
        "from sklearn.preprocessing import LabelEncoder, OneHotEncoder\n",
        "from sklearn.base import TransformerMixin"
      ],
      "execution_count": 0,
      "outputs": []
    },
    {
      "cell_type": "markdown",
      "metadata": {
        "id": "oxKw47KdmPHa",
        "colab_type": "text"
      },
      "source": [
        "## Part 1 and 2\n",
        "\n",
        "loding and preprocessing the data"
      ]
    },
    {
      "cell_type": "code",
      "metadata": {
        "id": "nhSOydrpllZ6",
        "colab_type": "code",
        "colab": {
          "base_uri": "https://localhost:8080/",
          "height": 72
        },
        "outputId": "82c0735b-b1af-49a9-827c-5ae69081a613"
      },
      "source": [
        "# loading dataset\n",
        "dataset_path = \"dataset/adult.data\"\n",
        "\n",
        "# using ',\\s' as seprator because we have '?,' in our dataset\n",
        "# converting '?' to NaN\n",
        "df = pd.read_csv(dataset_path, header=None, sep=',\\s', na_values=[\"?\"])\n",
        "\n",
        "# Define dataset headers\n",
        "df.columns = [\"age\", \"workclass\", \"fnlwgt\", \"education\", \"education-num\", \"marital-status\", \"occupation\", \"relationship\",\n",
        "          \"race\", \"sex\", \"capital-gain\", \"capital-loss\", \"hours-per-week\", \"native-country\", \"label\"]"
      ],
      "execution_count": 139,
      "outputs": [
        {
          "output_type": "stream",
          "text": [
            "/usr/local/lib/python3.6/dist-packages/ipykernel_launcher.py:5: ParserWarning: Falling back to the 'python' engine because the 'c' engine does not support regex separators (separators > 1 char and different from '\\s+' are interpreted as regex); you can avoid this warning by specifying engine='python'.\n",
            "  \"\"\"\n"
          ],
          "name": "stderr"
        }
      ]
    },
    {
      "cell_type": "code",
      "metadata": {
        "id": "dcL1nZJKly01",
        "colab_type": "code",
        "colab": {
          "base_uri": "https://localhost:8080/",
          "height": 328
        },
        "outputId": "12a7bf4e-bc14-4197-b7aa-d11bb226e94b"
      },
      "source": [
        "df.head()"
      ],
      "execution_count": 140,
      "outputs": [
        {
          "output_type": "execute_result",
          "data": {
            "text/html": [
              "<div>\n",
              "<style scoped>\n",
              "    .dataframe tbody tr th:only-of-type {\n",
              "        vertical-align: middle;\n",
              "    }\n",
              "\n",
              "    .dataframe tbody tr th {\n",
              "        vertical-align: top;\n",
              "    }\n",
              "\n",
              "    .dataframe thead th {\n",
              "        text-align: right;\n",
              "    }\n",
              "</style>\n",
              "<table border=\"1\" class=\"dataframe\">\n",
              "  <thead>\n",
              "    <tr style=\"text-align: right;\">\n",
              "      <th></th>\n",
              "      <th>age</th>\n",
              "      <th>workclass</th>\n",
              "      <th>fnlwgt</th>\n",
              "      <th>education</th>\n",
              "      <th>education-num</th>\n",
              "      <th>marital-status</th>\n",
              "      <th>occupation</th>\n",
              "      <th>relationship</th>\n",
              "      <th>race</th>\n",
              "      <th>sex</th>\n",
              "      <th>capital-gain</th>\n",
              "      <th>capital-loss</th>\n",
              "      <th>hours-per-week</th>\n",
              "      <th>native-country</th>\n",
              "      <th>label</th>\n",
              "    </tr>\n",
              "  </thead>\n",
              "  <tbody>\n",
              "    <tr>\n",
              "      <th>0</th>\n",
              "      <td>39</td>\n",
              "      <td>State-gov</td>\n",
              "      <td>77516</td>\n",
              "      <td>Bachelors</td>\n",
              "      <td>13</td>\n",
              "      <td>Never-married</td>\n",
              "      <td>Adm-clerical</td>\n",
              "      <td>Not-in-family</td>\n",
              "      <td>White</td>\n",
              "      <td>Male</td>\n",
              "      <td>2174</td>\n",
              "      <td>0</td>\n",
              "      <td>40</td>\n",
              "      <td>United-States</td>\n",
              "      <td>&lt;=50K</td>\n",
              "    </tr>\n",
              "    <tr>\n",
              "      <th>1</th>\n",
              "      <td>50</td>\n",
              "      <td>Self-emp-not-inc</td>\n",
              "      <td>83311</td>\n",
              "      <td>Bachelors</td>\n",
              "      <td>13</td>\n",
              "      <td>Married-civ-spouse</td>\n",
              "      <td>Exec-managerial</td>\n",
              "      <td>Husband</td>\n",
              "      <td>White</td>\n",
              "      <td>Male</td>\n",
              "      <td>0</td>\n",
              "      <td>0</td>\n",
              "      <td>13</td>\n",
              "      <td>United-States</td>\n",
              "      <td>&lt;=50K</td>\n",
              "    </tr>\n",
              "    <tr>\n",
              "      <th>2</th>\n",
              "      <td>38</td>\n",
              "      <td>Private</td>\n",
              "      <td>215646</td>\n",
              "      <td>HS-grad</td>\n",
              "      <td>9</td>\n",
              "      <td>Divorced</td>\n",
              "      <td>Handlers-cleaners</td>\n",
              "      <td>Not-in-family</td>\n",
              "      <td>White</td>\n",
              "      <td>Male</td>\n",
              "      <td>0</td>\n",
              "      <td>0</td>\n",
              "      <td>40</td>\n",
              "      <td>United-States</td>\n",
              "      <td>&lt;=50K</td>\n",
              "    </tr>\n",
              "    <tr>\n",
              "      <th>3</th>\n",
              "      <td>53</td>\n",
              "      <td>Private</td>\n",
              "      <td>234721</td>\n",
              "      <td>11th</td>\n",
              "      <td>7</td>\n",
              "      <td>Married-civ-spouse</td>\n",
              "      <td>Handlers-cleaners</td>\n",
              "      <td>Husband</td>\n",
              "      <td>Black</td>\n",
              "      <td>Male</td>\n",
              "      <td>0</td>\n",
              "      <td>0</td>\n",
              "      <td>40</td>\n",
              "      <td>United-States</td>\n",
              "      <td>&lt;=50K</td>\n",
              "    </tr>\n",
              "    <tr>\n",
              "      <th>4</th>\n",
              "      <td>28</td>\n",
              "      <td>Private</td>\n",
              "      <td>338409</td>\n",
              "      <td>Bachelors</td>\n",
              "      <td>13</td>\n",
              "      <td>Married-civ-spouse</td>\n",
              "      <td>Prof-specialty</td>\n",
              "      <td>Wife</td>\n",
              "      <td>Black</td>\n",
              "      <td>Female</td>\n",
              "      <td>0</td>\n",
              "      <td>0</td>\n",
              "      <td>40</td>\n",
              "      <td>Cuba</td>\n",
              "      <td>&lt;=50K</td>\n",
              "    </tr>\n",
              "  </tbody>\n",
              "</table>\n",
              "</div>"
            ],
            "text/plain": [
              "   age         workclass  fnlwgt  ... hours-per-week  native-country  label\n",
              "0   39         State-gov   77516  ...             40   United-States  <=50K\n",
              "1   50  Self-emp-not-inc   83311  ...             13   United-States  <=50K\n",
              "2   38           Private  215646  ...             40   United-States  <=50K\n",
              "3   53           Private  234721  ...             40   United-States  <=50K\n",
              "4   28           Private  338409  ...             40            Cuba  <=50K\n",
              "\n",
              "[5 rows x 15 columns]"
            ]
          },
          "metadata": {
            "tags": []
          },
          "execution_count": 140
        }
      ]
    },
    {
      "cell_type": "code",
      "metadata": {
        "id": "1xxLsFstjj6q",
        "colab_type": "code",
        "colab": {}
      },
      "source": [
        "class DataFrameImputer(TransformerMixin):\n",
        "\n",
        "    def __init__(self):\n",
        "        \"\"\"Impute missing values.\n",
        "\n",
        "        Columns of dtype object are imputed with the most frequent value \n",
        "        in column.\n",
        "\n",
        "        Columns of other types are imputed with mean of column.\n",
        "\n",
        "        \"\"\"\n",
        "    def fit(self, X, y=None):\n",
        "\n",
        "        self.fill = pd.Series([X[c].value_counts().index[0]\n",
        "            if X[c].dtype == np.dtype('O') else X[c].mean() for c in X],\n",
        "            index=X.columns)\n",
        "\n",
        "        return self\n",
        "\n",
        "    def transform(self, X, y=None):\n",
        "        return X.fillna(self.fill)"
      ],
      "execution_count": 0,
      "outputs": []
    },
    {
      "cell_type": "code",
      "metadata": {
        "id": "bgKPKOEpj03V",
        "colab_type": "code",
        "colab": {}
      },
      "source": [
        "df_without_nan = DataFrameImputer().fit_transform(df)"
      ],
      "execution_count": 0,
      "outputs": []
    },
    {
      "cell_type": "code",
      "metadata": {
        "id": "R_XC-HESg60a",
        "colab_type": "code",
        "colab": {}
      },
      "source": [
        "# prepare input data\n",
        "def one_hot_input(x_train):\n",
        "\tohe = OneHotEncoder()\n",
        "\tohe.fit(x_train)\n",
        "\tx_train_enc = ohe.transform(x_train)\n",
        "\treturn x_train_enc\n",
        "\n",
        "# prepare target\n",
        "def one_hot_output(y_train):\n",
        "\tle = LabelEncoder()\n",
        "\tle.fit(y_train)\n",
        "\ty_train_enc = le.transform(y_train)\n",
        "\treturn y_train_enc"
      ],
      "execution_count": 0,
      "outputs": []
    },
    {
      "cell_type": "code",
      "metadata": {
        "id": "zntsWm6qgEdB",
        "colab_type": "code",
        "colab": {}
      },
      "source": [
        "# choosing x_train and y_train\n",
        "x_train = df_without_nan.loc[:,'age':'native-country'].values\n",
        "y_train = df_without_nan['label'].values\n",
        "\n",
        "\n",
        "x_train_enc = prepare_inputs(x_train)\n",
        "y_train_enc = prepare_targets(y_train)"
      ],
      "execution_count": 0,
      "outputs": []
    },
    {
      "cell_type": "code",
      "metadata": {
        "id": "CTFzmYSqSlYW",
        "colab_type": "code",
        "colab": {
          "base_uri": "https://localhost:8080/",
          "height": 104
        },
        "outputId": "01de1fc2-fbe8-472f-d934-567afd37fe4d"
      },
      "source": [
        "print(f\"x_train shape: {x_train.shape}\")\n",
        "print(f\"x_train_enc shape: {x_train_enc.shape}\")\n",
        "print()\n",
        "print(f\"y_train shape: {y_train.shape}\")\n",
        "print(f\"y_train_enc shape: {y_train_enc.shape}\")"
      ],
      "execution_count": 152,
      "outputs": [
        {
          "output_type": "stream",
          "text": [
            "x_train shape: (32561, 14)\n",
            "x_train_enc shape: (32561, 22141)\n",
            "\n",
            "y_train shape: (32561,)\n",
            "y_train_enc shape: (32561,)\n"
          ],
          "name": "stdout"
        }
      ]
    },
    {
      "cell_type": "markdown",
      "metadata": {
        "id": "hirmpYrJTkn5",
        "colab_type": "text"
      },
      "source": [
        "\n",
        "# Part 3 - Model\n"
      ]
    },
    {
      "cell_type": "code",
      "metadata": {
        "id": "gSy3WUUITh1F",
        "colab_type": "code",
        "colab": {}
      },
      "source": [
        "model = tf.keras.models.Sequential([\n",
        "                                    tf.keras.layers.Dense(units=14, input_dim=x_train_enc.shape[1]),\n",
        "                                    tf.keras.layers.Dense(units=128, activation='relu'),\n",
        "                                    tf.keras.layers.Dense(units=1, activation='sigmoid')\n",
        "\n",
        "])"
      ],
      "execution_count": 0,
      "outputs": []
    },
    {
      "cell_type": "code",
      "metadata": {
        "id": "ssDrB-iiVCBl",
        "colab_type": "code",
        "colab": {}
      },
      "source": [
        "# compiling model\n",
        "model.compile(optimizer='adam',\n",
        "              loss='binary_crossentropy',\n",
        "              metrics=[\"accuracy\"])"
      ],
      "execution_count": 0,
      "outputs": []
    },
    {
      "cell_type": "code",
      "metadata": {
        "id": "w0DpeNfHlSIH",
        "colab_type": "code",
        "colab": {}
      },
      "source": [
        ""
      ],
      "execution_count": 0,
      "outputs": []
    },
    {
      "cell_type": "code",
      "metadata": {
        "id": "Q2o4Z7pZVTM7",
        "colab_type": "code",
        "colab": {
          "base_uri": "https://localhost:8080/",
          "height": 382
        },
        "outputId": "609a9b79-3ed3-48b3-f0ec-19eef8d3c2ee"
      },
      "source": [
        "model.fit(x_train_enc, y_train_enc, epochs=10)#, validation_split=0.1)#, callbacks=[es_callback, tb_callback])"
      ],
      "execution_count": 150,
      "outputs": [
        {
          "output_type": "stream",
          "text": [
            "Epoch 1/10\n",
            "1018/1018 [==============================] - 3s 3ms/step - loss: 0.3233 - accuracy: 0.8513\n",
            "Epoch 2/10\n",
            "1018/1018 [==============================] - 3s 3ms/step - loss: 0.2339 - accuracy: 0.8961\n",
            "Epoch 3/10\n",
            "1018/1018 [==============================] - 3s 2ms/step - loss: 0.1597 - accuracy: 0.9325\n",
            "Epoch 4/10\n",
            "1018/1018 [==============================] - 3s 2ms/step - loss: 0.1225 - accuracy: 0.9465\n",
            "Epoch 5/10\n",
            "1018/1018 [==============================] - 2s 2ms/step - loss: 0.1023 - accuracy: 0.9525\n",
            "Epoch 6/10\n",
            "1018/1018 [==============================] - 3s 2ms/step - loss: 0.0888 - accuracy: 0.9561\n",
            "Epoch 7/10\n",
            "1018/1018 [==============================] - 3s 3ms/step - loss: 0.0754 - accuracy: 0.9624\n",
            "Epoch 8/10\n",
            "1018/1018 [==============================] - 3s 3ms/step - loss: 0.0657 - accuracy: 0.9676\n",
            "Epoch 9/10\n",
            "1018/1018 [==============================] - 3s 3ms/step - loss: 0.0562 - accuracy: 0.9728\n",
            "Epoch 10/10\n",
            "1018/1018 [==============================] - 3s 2ms/step - loss: 0.0503 - accuracy: 0.9779\n"
          ],
          "name": "stdout"
        },
        {
          "output_type": "execute_result",
          "data": {
            "text/plain": [
              "<tensorflow.python.keras.callbacks.History at 0x7f80ddc87518>"
            ]
          },
          "metadata": {
            "tags": []
          },
          "execution_count": 150
        }
      ]
    },
    {
      "cell_type": "code",
      "metadata": {
        "id": "pLnw4_vcU1LB",
        "colab_type": "code",
        "colab": {
          "base_uri": "https://localhost:8080/",
          "height": 309
        },
        "outputId": "abd9377e-d618-4a73-a92e-bd3623efc87d"
      },
      "source": [
        "# checking model summary\n",
        "model.summary()"
      ],
      "execution_count": 36,
      "outputs": [
        {
          "output_type": "error",
          "ename": "ValueError",
          "evalue": "ignored",
          "traceback": [
            "\u001b[0;31m---------------------------------------------------------------------------\u001b[0m",
            "\u001b[0;31mValueError\u001b[0m                                Traceback (most recent call last)",
            "\u001b[0;32m<ipython-input-36-5f15418b3570>\u001b[0m in \u001b[0;36m<module>\u001b[0;34m()\u001b[0m\n\u001b[0;32m----> 1\u001b[0;31m \u001b[0mmodel\u001b[0m\u001b[0;34m.\u001b[0m\u001b[0msummary\u001b[0m\u001b[0;34m(\u001b[0m\u001b[0;34m)\u001b[0m\u001b[0;34m\u001b[0m\u001b[0;34m\u001b[0m\u001b[0m\n\u001b[0m",
            "\u001b[0;32m/usr/local/lib/python3.6/dist-packages/tensorflow/python/keras/engine/network.py\u001b[0m in \u001b[0;36msummary\u001b[0;34m(self, line_length, positions, print_fn)\u001b[0m\n\u001b[1;32m   1339\u001b[0m     \"\"\"\n\u001b[1;32m   1340\u001b[0m     \u001b[0;32mif\u001b[0m \u001b[0;32mnot\u001b[0m \u001b[0mself\u001b[0m\u001b[0;34m.\u001b[0m\u001b[0mbuilt\u001b[0m\u001b[0;34m:\u001b[0m\u001b[0;34m\u001b[0m\u001b[0;34m\u001b[0m\u001b[0m\n\u001b[0;32m-> 1341\u001b[0;31m       raise ValueError('This model has not yet been built. '\n\u001b[0m\u001b[1;32m   1342\u001b[0m                        \u001b[0;34m'Build the model first by calling `build()` or calling '\u001b[0m\u001b[0;34m\u001b[0m\u001b[0;34m\u001b[0m\u001b[0m\n\u001b[1;32m   1343\u001b[0m                        \u001b[0;34m'`fit()` with some data, or specify '\u001b[0m\u001b[0;34m\u001b[0m\u001b[0;34m\u001b[0m\u001b[0m\n",
            "\u001b[0;31mValueError\u001b[0m: This model has not yet been built. Build the model first by calling `build()` or calling `fit()` with some data, or specify an `input_shape` argument in the first layer(s) for automatic build."
          ]
        }
      ]
    },
    {
      "cell_type": "code",
      "metadata": {
        "id": "NL8iM4L3U9WN",
        "colab_type": "code",
        "colab": {}
      },
      "source": [
        ""
      ],
      "execution_count": 0,
      "outputs": []
    }
  ]
}